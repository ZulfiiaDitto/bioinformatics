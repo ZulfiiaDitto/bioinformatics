{
 "cells": [
  {
   "cell_type": "markdown",
   "id": "4d0ae8d3-7a8c-4694-afe2-a749c9dfa2d6",
   "metadata": {},
   "source": [
    "Notebook represent the GNEA analysis or pathway enrichment analysis. \n",
    "Purpose of GNEA analysis is to understand what genes (from the path of interest) are influenced (up regilated/down regulated) in interest cohort of pateints ( healthy vs cell patients; tumor cells vs healthy cells, b/n different type cells) "
   ]
  },
  {
   "cell_type": "code",
   "execution_count": 8,
   "id": "1fc3c220-5ae9-4b8e-8987-6214c506b5a0",
   "metadata": {},
   "outputs": [
    {
     "name": "stderr",
     "output_type": "stream",
     "text": [
      "── \u001b[1mAttaching core tidyverse packages\u001b[22m ──────────────────────── tidyverse 2.0.0 ──\n",
      "\u001b[32m✔\u001b[39m \u001b[34mdplyr    \u001b[39m 1.1.4     \u001b[32m✔\u001b[39m \u001b[34mreadr    \u001b[39m 2.1.5\n",
      "\u001b[32m✔\u001b[39m \u001b[34mforcats  \u001b[39m 1.0.0     \u001b[32m✔\u001b[39m \u001b[34mstringr  \u001b[39m 1.5.1\n",
      "\u001b[32m✔\u001b[39m \u001b[34mlubridate\u001b[39m 1.9.3     \u001b[32m✔\u001b[39m \u001b[34mtibble   \u001b[39m 3.2.1\n",
      "\u001b[32m✔\u001b[39m \u001b[34mpurrr    \u001b[39m 1.0.2     \u001b[32m✔\u001b[39m \u001b[34mtidyr    \u001b[39m 1.3.1\n",
      "── \u001b[1mConflicts\u001b[22m ────────────────────────────────────────── tidyverse_conflicts() ──\n",
      "\u001b[31m✖\u001b[39m \u001b[34mdplyr\u001b[39m::\u001b[32mfilter()\u001b[39m   masks \u001b[34mclusterProfiler\u001b[39m::filter(), \u001b[34mstats\u001b[39m::filter()\n",
      "\u001b[31m✖\u001b[39m \u001b[34mdplyr\u001b[39m::\u001b[32mlag()\u001b[39m      masks \u001b[34mstats\u001b[39m::lag()\n",
      "\u001b[31m✖\u001b[39m \u001b[34mpurrr\u001b[39m::\u001b[32msimplify()\u001b[39m masks \u001b[34mclusterProfiler\u001b[39m::simplify()\n",
      "\u001b[36mℹ\u001b[39m Use the conflicted package (\u001b[3m\u001b[34m<http://conflicted.r-lib.org/>\u001b[39m\u001b[23m) to force all conflicts to become errors\n",
      "DOSE v3.28.1  For help: https://yulab-smu.top/biomedical-knowledge-mining-book/\n",
      "\n",
      "If you use DOSE in published research, please cite:\n",
      "Guangchuang Yu, Li-Gen Wang, Guang-Rong Yan, Qing-Yu He. DOSE: an R/Bioconductor package for Disease Ontology Semantic and Enrichment analysis. Bioinformatics 2015, 31(4):608-609\n",
      "\n",
      "\n",
      "Loading required package: AnnotationDbi\n",
      "\n",
      "Loading required package: stats4\n",
      "\n",
      "Loading required package: BiocGenerics\n",
      "\n",
      "\n",
      "Attaching package: ‘BiocGenerics’\n",
      "\n",
      "\n",
      "The following objects are masked from ‘package:lubridate’:\n",
      "\n",
      "    intersect, setdiff, union\n",
      "\n",
      "\n",
      "The following objects are masked from ‘package:dplyr’:\n",
      "\n",
      "    combine, intersect, setdiff, union\n",
      "\n",
      "\n",
      "The following objects are masked from ‘package:stats’:\n",
      "\n",
      "    IQR, mad, sd, var, xtabs\n",
      "\n",
      "\n",
      "The following objects are masked from ‘package:base’:\n",
      "\n",
      "    Filter, Find, Map, Position, Reduce, anyDuplicated, aperm, append,\n",
      "    as.data.frame, basename, cbind, colnames, dirname, do.call,\n",
      "    duplicated, eval, evalq, get, grep, grepl, intersect, is.unsorted,\n",
      "    lapply, mapply, match, mget, order, paste, pmax, pmax.int, pmin,\n",
      "    pmin.int, rank, rbind, rownames, sapply, setdiff, sort, table,\n",
      "    tapply, union, unique, unsplit, which.max, which.min\n",
      "\n",
      "\n",
      "Loading required package: Biobase\n",
      "\n",
      "Welcome to Bioconductor\n",
      "\n",
      "    Vignettes contain introductory material; view with\n",
      "    'browseVignettes()'. To cite Bioconductor, see\n",
      "    'citation(\"Biobase\")', and for packages 'citation(\"pkgname\")'.\n",
      "\n",
      "\n",
      "Loading required package: IRanges\n",
      "\n",
      "Loading required package: S4Vectors\n",
      "\n",
      "\n",
      "Attaching package: ‘S4Vectors’\n",
      "\n",
      "\n",
      "The following objects are masked from ‘package:lubridate’:\n",
      "\n",
      "    second, second<-\n",
      "\n",
      "\n",
      "The following objects are masked from ‘package:dplyr’:\n",
      "\n",
      "    first, rename\n",
      "\n",
      "\n",
      "The following object is masked from ‘package:tidyr’:\n",
      "\n",
      "    expand\n",
      "\n",
      "\n",
      "The following object is masked from ‘package:clusterProfiler’:\n",
      "\n",
      "    rename\n",
      "\n",
      "\n",
      "The following object is masked from ‘package:utils’:\n",
      "\n",
      "    findMatches\n",
      "\n",
      "\n",
      "The following objects are masked from ‘package:base’:\n",
      "\n",
      "    I, expand.grid, unname\n",
      "\n",
      "\n",
      "\n",
      "Attaching package: ‘IRanges’\n",
      "\n",
      "\n",
      "The following object is masked from ‘package:lubridate’:\n",
      "\n",
      "    %within%\n",
      "\n",
      "\n",
      "The following objects are masked from ‘package:dplyr’:\n",
      "\n",
      "    collapse, desc, slice\n",
      "\n",
      "\n",
      "The following object is masked from ‘package:purrr’:\n",
      "\n",
      "    reduce\n",
      "\n",
      "\n",
      "The following object is masked from ‘package:clusterProfiler’:\n",
      "\n",
      "    slice\n",
      "\n",
      "\n",
      "\n",
      "Attaching package: ‘AnnotationDbi’\n",
      "\n",
      "\n",
      "The following object is masked from ‘package:dplyr’:\n",
      "\n",
      "    select\n",
      "\n",
      "\n",
      "The following object is masked from ‘package:clusterProfiler’:\n",
      "\n",
      "    select\n",
      "\n",
      "\n",
      "\n",
      "\n"
     ]
    }
   ],
   "source": [
    "#instalation of needed library\n",
    "library(clusterProfiler)\n",
    "library(ggplot2)\n",
    "library(tidyverse)\n",
    "library(DOSE)\n",
    "library(org.Hs.eg.db)\n",
    "library(enrichplot)"
   ]
  },
  {
   "cell_type": "markdown",
   "id": "2817b5d5-6590-4237-a64f-78735854d08e",
   "metadata": {},
   "source": [
    "data had been loaded from this webside \"https://biostatsquid.com/wp-content/uploads/2023/06/severevshealthy_degresults-1.csv\". \n",
    "Utilizing the following command on MAC:   curl \"https://biostatsquid.com/wp-content/uploads/2023/06/severevshealthy_degresults-1.csv\" -o \"data.csv\"\n",
    "\n",
    "#### Data is publicaly available from the paper \"Low-Avidity CD4+ T Cell Responses to SARS-CoV-2 in Unexposed Individuals and Humans with Severe COVID-19\" (acher et all 2020), link to the original paper is here: https://www.sciencedirect.com/science/article/pii/S1074761320305033 \n",
    "\n",
    "Data includes the comparison in gene expression of severe patients vs unexposed. Data already preprocess adn represents the T- statistics for each gene expression. \n"
   ]
  },
  {
   "cell_type": "code",
   "execution_count": 6,
   "id": "af52ebef-4432-4366-b34c-bee5a5a75786",
   "metadata": {},
   "outputs": [
    {
     "name": "stdout",
     "output_type": "stream",
     "text": [
      "'data.frame':\t33538 obs. of  4 variables:\n",
      " $ gene_symbol: chr  \"MIR1302-2HG\" \"FAM138A\" \"OR4F5\" \"AL627309.1\" ...\n",
      " $ pval       : num  1 1 1 0.701 1 ...\n",
      " $ padj       : num  1 1 1 1 1 ...\n",
      " $ log2fc     : num  1.59e+01 -2.84e-12 -2.84e-12 -6.36e-01 -2.84e-12 ...\n"
     ]
    }
   ],
   "source": [
    "# first read file \n",
    "\n",
    "data <- read.csv(paste0('data.csv'), row.name = 1)\n",
    "str(data)"
   ]
  },
  {
   "cell_type": "code",
   "execution_count": 7,
   "id": "fd0558d3-c0ea-4f30-a77e-9cd9b907940f",
   "metadata": {},
   "outputs": [
    {
     "data": {
      "text/html": [
       "<style>\n",
       ".list-inline {list-style: none; margin:0; padding: 0}\n",
       ".list-inline>li {display: inline-block}\n",
       ".list-inline>li:not(:last-child)::after {content: \"\\00b7\"; padding: 0 .5ex}\n",
       "</style>\n",
       "<ol class=list-inline><li>33538</li><li>4</li></ol>\n"
      ],
      "text/latex": [
       "\\begin{enumerate*}\n",
       "\\item 33538\n",
       "\\item 4\n",
       "\\end{enumerate*}\n"
      ],
      "text/markdown": [
       "1. 33538\n",
       "2. 4\n",
       "\n",
       "\n"
      ],
      "text/plain": [
       "[1] 33538     4"
      ]
     },
     "metadata": {},
     "output_type": "display_data"
    }
   ],
   "source": [
    "dim(data)"
   ]
  },
  {
   "cell_type": "code",
   "execution_count": 8,
   "id": "525d1f50-0760-4eb6-b6cc-262cc4ab37b6",
   "metadata": {},
   "outputs": [
    {
     "data": {
      "text/html": [
       "<table class=\"dataframe\">\n",
       "<caption>A data.frame: 6 × 4</caption>\n",
       "<thead>\n",
       "\t<tr><th></th><th scope=col>gene_symbol</th><th scope=col>pval</th><th scope=col>padj</th><th scope=col>log2fc</th></tr>\n",
       "\t<tr><th></th><th scope=col>&lt;chr&gt;</th><th scope=col>&lt;dbl&gt;</th><th scope=col>&lt;dbl&gt;</th><th scope=col>&lt;dbl&gt;</th></tr>\n",
       "</thead>\n",
       "<tbody>\n",
       "\t<tr><th scope=row>1</th><td>MIR1302-2HG</td><td>0.9998587</td><td>0.9999881</td><td> 1.586284e+01</td></tr>\n",
       "\t<tr><th scope=row>2</th><td>FAM138A    </td><td>0.9999881</td><td>0.9999881</td><td>-2.835860e-12</td></tr>\n",
       "\t<tr><th scope=row>3</th><td>OR4F5      </td><td>0.9999881</td><td>0.9999881</td><td>-2.835860e-12</td></tr>\n",
       "\t<tr><th scope=row>4</th><td>AL627309.1 </td><td>0.7008828</td><td>0.9999881</td><td>-6.360410e-01</td></tr>\n",
       "\t<tr><th scope=row>5</th><td>AL627309.3 </td><td>0.9999881</td><td>0.9999881</td><td>-2.835860e-12</td></tr>\n",
       "\t<tr><th scope=row>6</th><td>AL627309.2 </td><td>0.9999881</td><td>0.9999881</td><td>-2.835860e-12</td></tr>\n",
       "</tbody>\n",
       "</table>\n"
      ],
      "text/latex": [
       "A data.frame: 6 × 4\n",
       "\\begin{tabular}{r|llll}\n",
       "  & gene\\_symbol & pval & padj & log2fc\\\\\n",
       "  & <chr> & <dbl> & <dbl> & <dbl>\\\\\n",
       "\\hline\n",
       "\t1 & MIR1302-2HG & 0.9998587 & 0.9999881 &  1.586284e+01\\\\\n",
       "\t2 & FAM138A     & 0.9999881 & 0.9999881 & -2.835860e-12\\\\\n",
       "\t3 & OR4F5       & 0.9999881 & 0.9999881 & -2.835860e-12\\\\\n",
       "\t4 & AL627309.1  & 0.7008828 & 0.9999881 & -6.360410e-01\\\\\n",
       "\t5 & AL627309.3  & 0.9999881 & 0.9999881 & -2.835860e-12\\\\\n",
       "\t6 & AL627309.2  & 0.9999881 & 0.9999881 & -2.835860e-12\\\\\n",
       "\\end{tabular}\n"
      ],
      "text/markdown": [
       "\n",
       "A data.frame: 6 × 4\n",
       "\n",
       "| <!--/--> | gene_symbol &lt;chr&gt; | pval &lt;dbl&gt; | padj &lt;dbl&gt; | log2fc &lt;dbl&gt; |\n",
       "|---|---|---|---|---|\n",
       "| 1 | MIR1302-2HG | 0.9998587 | 0.9999881 |  1.586284e+01 |\n",
       "| 2 | FAM138A     | 0.9999881 | 0.9999881 | -2.835860e-12 |\n",
       "| 3 | OR4F5       | 0.9999881 | 0.9999881 | -2.835860e-12 |\n",
       "| 4 | AL627309.1  | 0.7008828 | 0.9999881 | -6.360410e-01 |\n",
       "| 5 | AL627309.3  | 0.9999881 | 0.9999881 | -2.835860e-12 |\n",
       "| 6 | AL627309.2  | 0.9999881 | 0.9999881 | -2.835860e-12 |\n",
       "\n"
      ],
      "text/plain": [
       "  gene_symbol pval      padj      log2fc       \n",
       "1 MIR1302-2HG 0.9998587 0.9999881  1.586284e+01\n",
       "2 FAM138A     0.9999881 0.9999881 -2.835860e-12\n",
       "3 OR4F5       0.9999881 0.9999881 -2.835860e-12\n",
       "4 AL627309.1  0.7008828 0.9999881 -6.360410e-01\n",
       "5 AL627309.3  0.9999881 0.9999881 -2.835860e-12\n",
       "6 AL627309.2  0.9999881 0.9999881 -2.835860e-12"
      ]
     },
     "metadata": {},
     "output_type": "display_data"
    }
   ],
   "source": [
    "head(data)\n",
    "# data includes p_value, log2fc -> tgose two columns we will utize for filtering the needed genes"
   ]
  },
  {
   "cell_type": "code",
   "execution_count": null,
   "id": "fd482b5e-9202-4fcc-a9ff-8e16e89a0c2a",
   "metadata": {},
   "outputs": [],
   "source": []
  }
 ],
 "metadata": {
  "kernelspec": {
   "display_name": "R",
   "language": "R",
   "name": "ir"
  },
  "language_info": {
   "codemirror_mode": "r",
   "file_extension": ".r",
   "mimetype": "text/x-r-source",
   "name": "R",
   "pygments_lexer": "r",
   "version": "4.3.3"
  }
 },
 "nbformat": 4,
 "nbformat_minor": 5
}
