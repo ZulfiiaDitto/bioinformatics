{
 "cells": [
  {
   "cell_type": "code",
   "execution_count": 12,
   "metadata": {},
   "outputs": [],
   "source": [
    "from collections import defaultdict"
   ]
  },
  {
   "cell_type": "code",
   "execution_count": 13,
   "metadata": {},
   "outputs": [
    {
     "name": "stdout",
     "output_type": "stream",
     "text": [
      "--2024-06-30 12:19:47--  https://d28rh4a8wq0iu5.cloudfront.net/ads1/data/lambda_virus.fa\n",
      "Resolving d28rh4a8wq0iu5.cloudfront.net (d28rh4a8wq0iu5.cloudfront.net)... 18.245.133.173, 18.245.133.72, 18.245.133.132, ...\n",
      "Connecting to d28rh4a8wq0iu5.cloudfront.net (d28rh4a8wq0iu5.cloudfront.net)|18.245.133.173|:443... connected.\n",
      "HTTP request sent, awaiting response... 200 OK\n",
      "Length: 49270 (48K) [application/octet-stream]\n",
      "Saving to: ‘lambda_virus.fa.1’\n",
      "\n",
      "lambda_virus.fa.1   100%[===================>]  48.12K  --.-KB/s    in 0.02s   \n",
      "\n",
      "2024-06-30 12:19:47 (2.06 MB/s) - ‘lambda_virus.fa.1’ saved [49270/49270]\n",
      "\n"
     ]
    }
   ],
   "source": [
    "!wget https://d28rh4a8wq0iu5.cloudfront.net/ads1/data/lambda_virus.fa\n",
    " # set directory - /bioinformatics/Analysis/Algorithms_for_genomic_seq"
   ]
  },
  {
   "cell_type": "code",
   "execution_count": 14,
   "metadata": {},
   "outputs": [],
   "source": [
    "def read_genome(filename):\n",
    "    genome =\"\"\n",
    "    with open(filename, 'r') as file:\n",
    "        for line in file:\n",
    "            if not line.startswith('>'):\n",
    "                genome += line.rstrip()\n",
    "    return genome\n",
    "\n",
    "genome = read_genome('lambda_virus.fa')"
   ]
  },
  {
   "cell_type": "code",
   "execution_count": 15,
   "metadata": {},
   "outputs": [
    {
     "data": {
      "text/plain": [
       "48502"
      ]
     },
     "execution_count": 15,
     "metadata": {},
     "output_type": "execute_result"
    }
   ],
   "source": [
    "# len should be 48502\n",
    "len(genome)"
   ]
  },
  {
   "cell_type": "code",
   "execution_count": 16,
   "metadata": {},
   "outputs": [],
   "source": [
    "counts = defaultdict(int)"
   ]
  },
  {
   "cell_type": "code",
   "execution_count": 17,
   "metadata": {},
   "outputs": [],
   "source": [
    "# manual count of nucleotides \n",
    "for base in genome:\n",
    "    if base in counts:\n",
    "        counts[base] += 1\n",
    "    else:\n",
    "        counts[base] =1 "
   ]
  },
  {
   "cell_type": "code",
   "execution_count": 11,
   "metadata": {},
   "outputs": [
    {
     "data": {
      "text/plain": [
       "defaultdict(int, {'G': 12820, 'C': 11362, 'A': 12334, 'T': 11986})"
      ]
     },
     "execution_count": 11,
     "metadata": {},
     "output_type": "execute_result"
    }
   ],
   "source": [
    "counts"
   ]
  },
  {
   "cell_type": "code",
   "execution_count": 18,
   "metadata": {},
   "outputs": [
    {
     "data": {
      "text/plain": [
       "Counter({'G': 12820, 'A': 12334, 'T': 11986, 'C': 11362})"
      ]
     },
     "execution_count": 18,
     "metadata": {},
     "output_type": "execute_result"
    }
   ],
   "source": [
    "#count using the python collection module \n",
    "from collections import Counter\n",
    "count_col = Counter(genome)\n",
    "count_col"
   ]
  },
  {
   "cell_type": "markdown",
   "metadata": {},
   "source": [
    "## Sequence read of fastaq file "
   ]
  },
  {
   "cell_type": "markdown",
   "metadata": {},
   "source": [
    "### analysis of quality score frequencies "
   ]
  },
  {
   "cell_type": "code",
   "execution_count": 52,
   "metadata": {},
   "outputs": [
    {
     "name": "stdout",
     "output_type": "stream",
     "text": [
      "--2024-06-30 14:06:50--  http://d28rh4a8wq0iu5.cloudfront.net/ads1/data/SRR835775_1.first1000.fastq\n",
      "Resolving d28rh4a8wq0iu5.cloudfront.net (d28rh4a8wq0iu5.cloudfront.net)... 18.245.133.68, 18.245.133.132, 18.245.133.173, ...\n",
      "Connecting to d28rh4a8wq0iu5.cloudfront.net (d28rh4a8wq0iu5.cloudfront.net)|18.245.133.68|:80... connected.\n",
      "HTTP request sent, awaiting response... 200 OK\n",
      "Length: 224786 (220K) [application/octet-stream]\n",
      "Saving to: ‘SRR835775_1.first1000.fastq.1’\n",
      "\n",
      "SRR835775_1.first10 100%[===================>] 219.52K  --.-KB/s    in 0.05s   \n",
      "\n",
      "2024-06-30 14:06:50 (3.97 MB/s) - ‘SRR835775_1.first1000.fastq.1’ saved [224786/224786]\n",
      "\n"
     ]
    }
   ],
   "source": [
    "!wget http://d28rh4a8wq0iu5.cloudfront.net/ads1/data/SRR835775_1.first1000.fastq"
   ]
  },
  {
   "cell_type": "code",
   "execution_count": 53,
   "metadata": {},
   "outputs": [],
   "source": [
    "def read_fastq(filename):\n",
    "    sequences = []\n",
    "    qualities = []\n",
    "    with open(filename) as file:\n",
    "        while True:\n",
    "            file.readline()\n",
    "            seq = file.readline().rstrip()\n",
    "            file.readline()\n",
    "            qual = file.readline().rstrip()\n",
    "            if len(seq) == 0:\n",
    "                break\n",
    "\n",
    "            else:\n",
    "                sequences.append(seq)\n",
    "                qualities.append(qual)\n",
    "    return sequences, qualities"
   ]
  },
  {
   "cell_type": "code",
   "execution_count": 55,
   "metadata": {},
   "outputs": [],
   "source": [
    "seq, qual = read_fastq('SRR835775_1.first1000.fastq')"
   ]
  },
  {
   "cell_type": "code",
   "execution_count": 56,
   "metadata": {},
   "outputs": [
    {
     "data": {
      "text/plain": [
       "2"
      ]
     },
     "execution_count": 56,
     "metadata": {},
     "output_type": "execute_result"
    }
   ],
   "source": [
    "# converting the quality score to the value \n",
    "\n",
    "def phred33_to_Q(qual):\n",
    "    \"\"\"Takes the acsci character of the quality\n",
    "      from fastsq file and return the value by converting it \"\"\"\n",
    "    return ord(qual) - 33\n",
    "\n",
    "phred33_to_Q('#')\n",
    "# the '#' is low score "
   ]
  },
  {
   "cell_type": "code",
   "execution_count": 57,
   "metadata": {},
   "outputs": [
    {
     "data": {
      "text/plain": [
       "{30: 3387,\n",
       " 33: 5476,\n",
       " 16: 184,\n",
       " 32: 3248,\n",
       " 35: 11814,\n",
       " 23: 798,\n",
       " 10: 193,\n",
       " 34: 8375,\n",
       " 25: 888,\n",
       " 18: 514,\n",
       " 36: 4243,\n",
       " 31: 4487,\n",
       " 8: 345,\n",
       " 17: 327,\n",
       " 26: 1396,\n",
       " 28: 993,\n",
       " 7: 574,\n",
       " 13: 165,\n",
       " 21: 254,\n",
       " 2: 6178,\n",
       " 37: 7827,\n",
       " 38: 6579,\n",
       " 39: 8179,\n",
       " 41: 8180,\n",
       " 40: 9349,\n",
       " 29: 1752,\n",
       " 20: 531,\n",
       " 24: 992,\n",
       " 27: 1488,\n",
       " 15: 236,\n",
       " 11: 124,\n",
       " 22: 313,\n",
       " 12: 79,\n",
       " 6: 108,\n",
       " 19: 238,\n",
       " 9: 83,\n",
       " 5: 54,\n",
       " 14: 49}"
      ]
     },
     "execution_count": 57,
     "metadata": {},
     "output_type": "execute_result"
    }
   ],
   "source": [
    "def score_frequencies(qualitlst: list):\n",
    "    valuelst = [phred33_to_Q(ph) for qual in qualitlst for ph in qual]\n",
    "    frequencies = Counter(valuelst)\n",
    "    return frequencies \n",
    "\n",
    "frequencies = score_frequencies(qual)\n",
    "dict(frequencies)"
   ]
  },
  {
   "cell_type": "code",
   "execution_count": 58,
   "metadata": {},
   "outputs": [
    {
     "data": {
      "image/png": "[encoded data removed]",
      "text/plain": [
       "<Figure size 640x480 with 1 Axes>"
      ]
     },
     "metadata": {},
     "output_type": "display_data"
    }
   ],
   "source": [
    "%matplotlib inline\n",
    "import matplotlib.pyplot as plt\n",
    "\n",
    "plt.bar(list(dict(frequencies).keys()), list(dict(frequencies).values()))\n",
    "plt.title(\"distribution of score frequencies\")\n",
    "plt.show()"
   ]
  },
  {
   "cell_type": "markdown",
   "metadata": {},
   "source": [
    "### GC content of reads "
   ]
  },
  {
   "cell_type": "code",
   "execution_count": 136,
   "metadata": {},
   "outputs": [
    {
     "name": "stdout",
     "output_type": "stream",
     "text": [
      "[0.51, 0.5, 0.5, 0.52, 0.52, 0.57, 0.56, 0.51, 0.53, 0.59, 0.51, 0.63, 0.52, 0.52, 0.49, 0.5, 0.48, 0.53, 0.43, 0.52, 0.5, 0.53, 0.5, 0.51, 0.5, 0.52, 0.51, 0.53, 0.52, 0.5, 0.66, 0.5, 0.55, 0.56, 0.5, 0.49, 0.55, 0.49, 0.51, 0.51, 0.51, 0.52, 0.54, 0.5, 0.5, 0.55, 0.52, 0.56, 0.47, 0.6, 0.55, 0.55, 0.46, 0.47, 0.52, 0.49, 0.55, 0.51, 0.48, 0.52, 0.5, 0.48, 0.52, 0.49, 0.5, 0.52, 0.49, 0.5, 0.5, 0.53, 0.5, 0.49, 0.51, 0.55, 0.47, 0.49, 0.51, 0.54, 0.51, 0.51, 0.49, 0.5, 0.57, 0.51, 0.52, 0.5, 0.58, 0.56, 0.48, 0.55, 0.52, 0.47, 0.65, 0.51, 0.53, 0.52, 0.49, 0.58, 0.58, 0.6, 0.51, 0.51, 0.55, 0.5, 0.59, 0.51, 0.6, 0.55, 0.5, 0.63, 0.51, 0.61, 0.53, 0.48, 0.5, 0.51, 0.49, 0.54, 0.52, 0.51, 0.52, 0.57, 0.54, 0.52, 0.51, 0.53, 0.51, 0.5, 0.52, 0.5, 0.52, 0.56, 0.55, 0.59, 0.55, 0.56, 0.54, 0.49, 0.55, 0.51, 0.53, 0.54, 0.52, 0.49, 0.6, 0.51, 0.53, 0.54, 0.53, 0.52, 0.6, 0.63, 0.52, 0.47, 0.52, 0.51, 0.5, 0.49, 0.54, 0.5, 0.5, 0.51, 0.56, 0.55, 0.5, 0.51, 0.56, 0.5, 0.53, 0.48, 0.53, 0.49, 0.63, 0.65, 0.65, 0.54, 0.66, 0.65, 0.66, 0.53, 0.55, 0.63, 0.62, 0.62, 0.63, 0.62, 0.62, 0.62, 0.62, 0.64, 0.61, 0.61, 0.65, 0.6, 0.61, 0.61, 0.63, 0.6, 0.59, 0.59, 0.58, 0.59, 0.58, 0.58, 0.57, 0.57, 0.56, 0.57, 0.63, 0.57, 0.56, 0.58, 0.62, 0.62, 0.62, 0.58, 0.6, 0.6, 0.59, 0.6, 0.6, 0.63, 0.56, 0.56, 0.55, 0.58, 0.56, 0.57, 0.57, 0.58, 0.59, 0.57, 0.57, 0.57, 0.57, 0.57, 0.55, 0.55, 0.55, 0.6, 0.56, 0.57, 0.6, 0.6, 0.55, 0.62, 0.6, 0.6, 0.6, 0.6, 0.61, 0.61, 0.59, 0.55, 0.59, 0.63, 0.6, 0.62, 0.63, 0.63, 0.64, 0.62, 0.6, 0.56, 0.54, 0.55, 0.65, 0.57, 0.61, 0.59, 0.56, 0.6, 0.61, 0.6, 0.55, 0.6, 0.55, 0.62, 0.61, 0.66, 0.55, 0.64, 0.61, 0.58, 0.64, 0.61, 0.61, 0.63, 0.55, 0.62, 0.61, 0.62, 0.63, 0.62, 0.61, 0.63, 0.62, 0.58, 0.62, 0.62, 0.62, 0.6, 0.62, 0.63, 0.64, 0.61, 0.59, 0.6, 0.6, 0.6, 0.61, 0.59, 0.6, 0.58, 0.63, 0.57, 0.6, 0.58, 0.62, 0.6, 0.57, 0.57, 0.63, 0.61, 0.61, 0.6, 0.59, 0.57, 0.57, 0.56, 0.55, 0.6, 0.6, 0.62, 0.59, 0.55, 0.56, 0.61, 0.52, 0.52, 0.52, 0.5, 0.57, 0.59, 0.49, 0.55, 0.55, 0.5, 0.47, 0.47, 0.58, 0.58, 0.53, 0.56, 0.45, 0.46, 0.6, 0.46, 0.45, 0.58, 0.58, 0.57, 0.57, 0.58, 0.52, 0.51, 0.59, 0.59, 0.54, 0.53, 0.56, 0.62, 0.57, 0.62, 0.46, 0.6, 0.56, 0.56, 0.56, 0.55, 0.53, 0.61, 0.54, 0.62, 0.6, 0.54, 0.6, 0.6, 0.54, 0.5, 0.53, 0.53, 0.49, 0.52, 0.56, 0.53, 0.63, 0.47, 0.5, 0.51, 0.54, 0.54, 0.53, 0.53, 0.51, 0.53, 0.53, 0.53, 0.5, 0.52, 0.52, 0.53, 0.54, 0.54, 0.53, 0.54, 0.46, 0.55, 0.55, 0.54, 0.54, 0.53, 0.44, 0.54, 0.53, 0.45, 0.45, 0.45, 0.48, 0.44, 0.47, 0.49, 0.45, 0.45, 0.58, 0.48, 0.49, 0.47, 0.42, 0.49, 0.48, 0.46, 0.46, 0.46, 0.43, 0.48, 0.48, 0.45, 0.45, 0.46, 0.6, 0.47, 0.47, 0.47, 0.61, 0.56, 0.56, 0.54, 0.57, 0.64, 0.65, 0.6, 0.54, 0.53, 0.66, 0.51, 0.53, 0.67, 0.53, 0.65, 0.66, 0.66, 0.57, 0.63, 0.67, 0.68, 0.68, 0.64, 0.71, 0.61, 0.61, 0.64, 0.67, 0.6, 0.65, 0.65, 0.64, 0.61, 0.65, 0.62, 0.6, 0.6, 0.67, 0.64, 0.62, 0.6, 0.6, 0.6, 0.57, 0.56, 0.58, 0.61, 0.56, 0.56, 0.55, 0.61, 0.55, 0.61, 0.55, 0.55, 0.6, 0.6, 0.67, 0.63, 0.6, 0.62, 0.63, 0.62, 0.62, 0.63, 0.64, 0.63, 0.62, 0.62, 0.62, 0.72, 0.59, 0.59, 0.62, 0.66, 0.63, 0.62, 0.61, 0.64, 0.7, 0.65, 0.61, 0.57, 0.66, 0.62, 0.63, 0.58, 0.61, 0.58, 0.63, 0.61, 0.61, 0.61, 0.62, 0.62, 0.63, 0.65, 0.64, 0.62, 0.63, 0.65, 0.62, 0.65, 0.56, 0.55, 0.59, 0.63, 0.63, 0.63, 0.63, 0.57, 0.63, 0.61, 0.62, 0.63, 0.62, 0.57, 0.61, 0.61, 0.61, 0.61, 0.61, 0.64, 0.64, 0.63, 0.65, 0.64, 0.66, 0.64, 0.56, 0.6, 0.65, 0.55, 0.55, 0.63, 0.62, 0.58, 0.57, 0.63, 0.57, 0.58, 0.62, 0.58, 0.58, 0.61, 0.62, 0.62, 0.61, 0.61, 0.62, 0.62, 0.61, 0.62, 0.62, 0.62, 0.66, 0.63, 0.66, 0.61, 0.68, 0.66, 0.58, 0.67, 0.69, 0.72, 0.68, 0.68, 0.66, 0.66, 0.66, 0.65, 0.66, 0.66, 0.61, 0.64, 0.65, 0.65, 0.65, 0.65, 0.65, 0.65, 0.63, 0.63, 0.63, 0.61, 0.61, 0.57, 0.61, 0.64, 0.6, 0.6, 0.64, 0.59, 0.61, 0.61, 0.63, 0.63, 0.59, 0.62, 0.62, 0.64, 0.58, 0.59, 0.58, 0.59, 0.65, 0.59, 0.59, 0.59, 0.69, 0.6, 0.61, 0.63, 0.63, 0.63, 0.61, 0.63, 0.62, 0.61, 0.61, 0.61, 0.68, 0.62, 0.61, 0.62, 0.68, 0.55, 0.55, 0.56, 0.55, 0.54, 0.55, 0.54, 0.65, 0.68, 0.59, 0.54, 0.66, 0.54, 0.66, 0.55, 0.65, 0.54, 0.54, 0.66, 0.55, 0.65, 0.56, 0.66, 0.54, 0.54, 0.65, 0.65, 0.67, 0.54, 0.54, 0.52, 0.53, 0.65, 0.65, 0.54, 0.52, 0.66, 0.51, 0.66, 0.64, 0.51, 0.51, 0.69, 0.65, 0.67, 0.55, 0.53, 0.65, 0.66, 0.63, 0.65, 0.63, 0.62, 0.57, 0.59, 0.68, 0.59, 0.68, 0.68, 0.7, 0.68, 0.69, 0.55, 0.71, 0.55, 0.6, 0.69, 0.54, 0.69, 0.61, 0.67, 0.69, 0.69, 0.69, 0.69, 0.55, 0.55, 0.53, 0.55, 0.68, 0.68, 0.54, 0.68, 0.69, 0.54, 0.61, 0.54, 0.7, 0.69, 0.69, 0.69, 0.68, 0.68, 0.55, 0.54, 0.7, 0.53, 0.54, 0.54, 0.66, 0.64, 0.62, 0.63, 0.64, 0.55, 0.62, 0.63, 0.58, 0.58, 0.53, 0.54, 0.65, 0.65, 0.59, 0.64, 0.55, 0.6, 0.64, 0.66, 0.65, 0.68, 0.68, 0.64, 0.62, 0.61, 0.65, 0.66, 0.64, 0.6, 0.63, 0.63, 0.63, 0.65, 0.63, 0.61, 0.6, 0.59, 0.6, 0.6, 0.59, 0.58, 0.65, 0.57, 0.59, 0.56, 0.57, 0.56, 0.64, 0.55, 0.41, 0.48, 0.5, 0.59, 0.47, 0.48, 0.65, 0.63, 0.49, 0.49, 0.5, 0.63, 0.62, 0.44, 0.62, 0.62, 0.47, 0.64, 0.46, 0.61, 0.63, 0.63, 0.46, 0.46, 0.46, 0.61, 0.62, 0.63, 0.49, 0.59, 0.49, 0.5, 0.62, 0.48, 0.48, 0.62, 0.6, 0.47, 0.61, 0.65, 0.59, 0.46, 0.58, 0.6, 0.46, 0.44, 0.43, 0.42, 0.43, 0.6, 0.6, 0.6, 0.61, 0.61, 0.4, 0.4, 0.6, 0.56, 0.6, 0.59, 0.6, 0.4, 0.59, 0.4, 0.61, 0.61, 0.39, 0.6, 0.38, 0.53, 0.6, 0.6, 0.61, 0.56, 0.34, 0.6, 0.59, 0.56, 0.31, 0.54, 0.3, 0.31, 0.6, 0.32, 0.31, 0.58, 0.56, 0.31, 0.31, 0.31, 0.31, 0.29, 0.3, 0.49, 0.3, 0.29, 0.61, 0.57, 0.3, 0.3, 0.57, 0.6, 0.31, 0.33, 0.53, 0.35, 0.38, 0.57, 0.49, 0.47, 0.65, 0.49, 0.48, 0.48, 0.66, 0.68, 0.7, 0.49, 0.45, 0.5, 0.7, 0.49, 0.4, 0.42, 0.47, 0.71, 0.71, 0.7, 0.7, 0.71, 0.47, 0.47, 0.46, 0.3, 0.72, 0.45, 0.4, 0.7, 0.36, 0.61, 0.58, 0.58, 0.57, 0.58, 0.58, 0.59, 0.58, 0.57, 0.56, 0.55, 0.55, 0.56, 0.59, 0.55, 0.55, 0.53, 0.6, 0.55, 0.55, 0.55, 0.58, 0.55, 0.54, 0.54, 0.57, 0.57, 0.61, 0.62, 0.6, 0.59]\n"
     ]
    }
   ],
   "source": [
    "# all reads are 100 base long \n",
    "def findGCinEachRead(reads):\n",
    "    \"\"\"finds the CG content and index where the CG bases is found \"\"\"\n",
    "    percentLst = []\n",
    "    for seq in reads: \n",
    "        all_bases = dict(Counter(seq))\n",
    "        percent = None\n",
    "        if 'G' in all_bases and \"C\" in all_bases:\n",
    "            percent =(all_bases['G'] + all_bases['C']) / sum(list(all_bases.values()))\n",
    "        elif \"G\" in all_bases:\n",
    "            percent = all_bases['G'] / sum(list(all_bases.values()))\n",
    "        elif \"C\" in all_bases:\n",
    "            percent = all_bases['C'] / sum(list(all_bases.values()))\n",
    "        percentLst.append(percent)\n",
    "    return percentLst\n",
    "\n",
    "                         \n",
    "GC_content = findGCinEachRead(seq)\n",
    "print(GC_content)\n"
   ]
  },
  {
   "cell_type": "code",
   "execution_count": 71,
   "metadata": {},
   "outputs": [
    {
     "data": {
      "image/png": "[encoded data removed]",
      "text/plain": [
       "<Figure size 640x480 with 1 Axes>"
      ]
     },
     "metadata": {},
     "output_type": "display_data"
    }
   ],
   "source": [
    "plt.plot(range(len(GC_content)), GC_content)\n",
    "plt.title(\"Percent of the GC content in each read\")\n",
    "plt.show()\n",
    "# summary: we have 1000 reads and in the late reads the content of CG is changing \n",
    "# drastically 0.3 to 0.7. usually CG conten in human genome around 0.50 +/- 0.05 \n",
    "# Thus we can conclude tha on the late reads quality is not great due to the high noise may be "
   ]
  },
  {
   "cell_type": "code",
   "execution_count": 73,
   "metadata": {},
   "outputs": [
    {
     "name": "stdout",
     "output_type": "stream",
     "text": [
      "Counter({'G': 28742, 'C': 28272, 'T': 21836, 'A': 21132, 'N': 18})\n"
     ]
    }
   ],
   "source": [
    "#lets see the distribution of the nucletides in all reads -> do easy with standart library\n",
    "# N - means no confidence in base -> sequencer will reporter could not figurate out what is it\n",
    "\n",
    "count = Counter()\n",
    "for s in seq:\n",
    "    count.update(s)\n",
    "\n",
    "print(count)"
   ]
  },
  {
   "cell_type": "markdown",
   "metadata": {},
   "source": [
    "### Naive aligment algorithm - exact match \n"
   ]
  },
  {
   "cell_type": "code",
   "execution_count": 74,
   "metadata": {},
   "outputs": [
    {
     "name": "stdout",
     "output_type": "stream",
     "text": [
      "--2024-06-30 16:02:38--  http://d28rh4a8wq0iu5.cloudfront.net/ads1/data/phix.fa\n",
      "Resolving d28rh4a8wq0iu5.cloudfront.net (d28rh4a8wq0iu5.cloudfront.net)... 18.245.133.68, 18.245.133.132, 18.245.133.173, ...\n",
      "Connecting to d28rh4a8wq0iu5.cloudfront.net (d28rh4a8wq0iu5.cloudfront.net)|18.245.133.68|:80... connected.\n",
      "HTTP request sent, awaiting response... 200 OK\n",
      "Length: 5528 (5.4K) [application/octet-stream]\n",
      "Saving to: ‘phix.fa’\n",
      "\n",
      "phix.fa             100%[===================>]   5.40K  --.-KB/s    in 0s      \n",
      "\n",
      "2024-06-30 16:02:39 (69.4 MB/s) - ‘phix.fa’ saved [5528/5528]\n",
      "\n"
     ]
    }
   ],
   "source": [
    "!wget http://d28rh4a8wq0iu5.cloudfront.net/ads1/data/phix.fa"
   ]
  },
  {
   "cell_type": "code",
   "execution_count": 75,
   "metadata": {},
   "outputs": [],
   "source": [
    "unk_genome = read_genome('phix.fa')"
   ]
  },
  {
   "cell_type": "code",
   "execution_count": 81,
   "metadata": {},
   "outputs": [],
   "source": [
    "def naive(p: str, t: str):\n",
    "    \"\"\"takes the pattern -> p and find all the matches in genome p\"\"\"\n",
    "    occurences = []\n",
    "    for i in range(len(t)-len(p)+1):\n",
    "        match = True\n",
    "        for j in range(len(p)):\n",
    "            if not t[i+j] == p[j]:\n",
    "                match = False\n",
    "                break\n",
    "        if match:\n",
    "            occurences.append(i)\n",
    "    return occurences\n",
    "\n"
   ]
  },
  {
   "cell_type": "code",
   "execution_count": 82,
   "metadata": {},
   "outputs": [
    {
     "name": "stdout",
     "output_type": "stream",
     "text": [
      "[0, 5, 9]\n"
     ]
    }
   ],
   "source": [
    "t = 'AGCTTAGATAGC'\n",
    "p = 'AG'\n",
    "matches = naive(p,t)\n",
    "print(matches)"
   ]
  },
  {
   "cell_type": "code",
   "execution_count": 84,
   "metadata": {},
   "outputs": [],
   "source": [
    "# create the randon genome from the reference genome\n",
    "import random\n",
    "def generateSeq(genome: str, numReads: int, readLen: int) -> list:\n",
    "    \"\"\"Generate the reads from random positions in a given genome\"\"\"\n",
    "    reads = []\n",
    "    for _ in range(numReads):\n",
    "        start = random.randint(0,len(genome)-readLen -1)\n",
    "        reads.append(genome[start:start+readLen])\n",
    "    return reads"
   ]
  },
  {
   "cell_type": "code",
   "execution_count": 85,
   "metadata": {},
   "outputs": [],
   "source": [
    "reads = generateSeq(unk_genome, 100, 150)"
   ]
  },
  {
   "cell_type": "code",
   "execution_count": 87,
   "metadata": {},
   "outputs": [
    {
     "name": "stdout",
     "output_type": "stream",
     "text": [
      "100 100 reads matched exactly\n"
     ]
    }
   ],
   "source": [
    "numMatch = 0 \n",
    "for r in reads:\n",
    "    matches = naive(r, unk_genome)\n",
    "    if len(matches) >0:\n",
    "        numMatch +=1\n",
    "\n",
    "print(f\"{numMatch} {len(reads)} reads matched exactly\")\n"
   ]
  },
  {
   "cell_type": "markdown",
   "metadata": {},
   "source": [
    "### real sequences match "
   ]
  },
  {
   "cell_type": "code",
   "execution_count": 88,
   "metadata": {},
   "outputs": [
    {
     "name": "stdout",
     "output_type": "stream",
     "text": [
      "--2024-06-30 16:19:10--  http://d28rh4a8wq0iu5.cloudfront.net/ads1/data/ERR266411_1.first1000.fastq\n",
      "Resolving d28rh4a8wq0iu5.cloudfront.net (d28rh4a8wq0iu5.cloudfront.net)... 18.245.133.72, 18.245.133.132, 18.245.133.173, ...\n",
      "Connecting to d28rh4a8wq0iu5.cloudfront.net (d28rh4a8wq0iu5.cloudfront.net)|18.245.133.72|:80... connected.\n",
      "HTTP request sent, awaiting response... 200 OK\n",
      "Length: 254384 (248K) [audio/mpeg]\n",
      "Saving to: ‘ERR266411_1.first1000.fastq’\n",
      "\n",
      "ERR266411_1.first10 100%[===================>] 248.42K  --.-KB/s    in 0.1s    \n",
      "\n",
      "2024-06-30 16:19:10 (2.06 MB/s) - ‘ERR266411_1.first1000.fastq’ saved [254384/254384]\n",
      "\n"
     ]
    }
   ],
   "source": [
    "!wget http://d28rh4a8wq0iu5.cloudfront.net/ads1/data/ERR266411_1.first1000.fastq"
   ]
  },
  {
   "cell_type": "code",
   "execution_count": 89,
   "metadata": {},
   "outputs": [],
   "source": [
    "reads, qual = read_fastq('ERR266411_1.first1000.fastq')"
   ]
  },
  {
   "cell_type": "code",
   "execution_count": 90,
   "metadata": {},
   "outputs": [
    {
     "name": "stdout",
     "output_type": "stream",
     "text": [
      "7 1000 reads matched exactly\n"
     ]
    }
   ],
   "source": [
    "numMatch = 0 \n",
    "n = 0 \n",
    "for r in reads:\n",
    "    matches = naive(r, unk_genome)\n",
    "    n +=1\n",
    "    if len(matches) >0:\n",
    "        numMatch +=1\n",
    "        \n",
    "print(f\"{numMatch} {len(reads)} reads matched exactly\")"
   ]
  },
  {
   "cell_type": "code",
   "execution_count": 91,
   "metadata": {},
   "outputs": [
    {
     "name": "stdout",
     "output_type": "stream",
     "text": [
      "459 1000 reads matched exactly\n"
     ]
    }
   ],
   "source": [
    "# lets try only first 30 bases from the reads to match \n",
    "numMatch = 0 \n",
    "n = 0 \n",
    "for r in reads:\n",
    "    r = r[:30]\n",
    "    matches = naive(r, unk_genome)\n",
    "    n +=1\n",
    "    if len(matches) >0:\n",
    "        numMatch +=1\n",
    "        \n",
    "print(f\"{numMatch} {len(reads)} reads matched exactly\")"
   ]
  },
  {
   "cell_type": "markdown",
   "metadata": {},
   "source": [
    "why  so less of the reads match the genome?\n",
    "1. sequencer errors\n",
    "2. the difference between the sequence ( our template) and reference genome\n",
    "3. the reference genome is double stranded but your reads comes eighter from the one strand or another. So this may cause the difference as well -> so we need to match also the reverse complement string as well to the genome \n"
   ]
  },
  {
   "cell_type": "code",
   "execution_count": 96,
   "metadata": {},
   "outputs": [],
   "source": [
    "dna_reverse_complement = {'A':'T', \n",
    "                          'T': 'A', \n",
    "                          'G': 'C', \n",
    "                          'C' : 'G', \n",
    "                          'N': 'N'}\n",
    "def reverse_complement(seq: str) -> str:\n",
    "    \"\"\" Takes the string DNA and return the reversed dna string \n",
    "     by replacing the A to T and C to G and reversing the string after all \"\"\"\n",
    "    return  ''.join([dna_reverse_complement[nuc] for nuc in seq])[::-1]"
   ]
  },
  {
   "cell_type": "code",
   "execution_count": 99,
   "metadata": {},
   "outputs": [
    {
     "name": "stdout",
     "output_type": "stream",
     "text": [
      "932 1000 reads matched exactly\n"
     ]
    }
   ],
   "source": [
    "numMatch = 0 \n",
    "n = 0 \n",
    "for r in reads:\n",
    "    r = r[:30]\n",
    "    matches = naive(r, unk_genome)\n",
    "    reversed_str = reverse_complement(r)\n",
    "    matches.extend(naive(reversed_str, unk_genome))\n",
    "    n +=1\n",
    "    if len(matches) >0:\n",
    "        numMatch +=1\n",
    "        \n",
    "print(f\"{numMatch} {len(reads)} reads matched exactly\")"
   ]
  },
  {
   "cell_type": "markdown",
   "metadata": {},
   "source": [
    "Summary: exact matching due to the error in sequencing is not possible. \n",
    "Approximate matching may be better in some cases.  "
   ]
  },
  {
   "cell_type": "markdown",
   "metadata": {},
   "source": [
    "### Homework module 1 for Algoritms in Genomics \n",
    "Implementing the naive function with will take care the reverse complement string and will acount match ones in cases when string = reverve comeplement str \n"
   ]
  },
  {
   "cell_type": "code",
   "execution_count": 100,
   "metadata": {},
   "outputs": [],
   "source": [
    "#1. lets check if reverse_complement = str \n",
    "#2. if it is != run reversed and str \n",
    "#3. if it is == run only one str \n",
    "\n",
    "def naive_with_rc(p: str, t: str):\n",
    "    \"\"\"takes the pattern -> p and find all the matches in genome p\"\"\"\n",
    "    occurences = []\n",
    "    reversed_str = reverse_complement(p)\n",
    "    if p == reversed_str:\n",
    "        for i in range(len(t)-len(p)+1):\n",
    "            match = True\n",
    "            for j in range(len(p)):\n",
    "                if not t[i+j] == p[j]:\n",
    "                    match = False\n",
    "                    break\n",
    "            if match:\n",
    "                occurences.append(i)\n",
    "    elif p != reversed_str:\n",
    "        for i in range(len(t)-len(p)+1):\n",
    "            match = True\n",
    "            for j in range(len(p)):\n",
    "                if not t[i+j] == p[j]:\n",
    "                    match = False\n",
    "                    break\n",
    "            if match:\n",
    "                occurences.append(i) \n",
    "        for i in range(len(t)-len(reversed_str)+1):\n",
    "            match = True\n",
    "            for j in range(len(reversed_str)):\n",
    "                if not t[i+j] == reversed_str[j]:\n",
    "                    match = False\n",
    "                    break\n",
    "            if match:\n",
    "                occurences.append(i)\n",
    "    return occurences"
   ]
  },
  {
   "cell_type": "code",
   "execution_count": 101,
   "metadata": {},
   "outputs": [
    {
     "name": "stdout",
     "output_type": "stream",
     "text": [
      "[10, 23]\n"
     ]
    }
   ],
   "source": [
    "p = 'CCC'\n",
    "ten_as = 'AAAAAAAAAA'\n",
    "t = ten_as + 'CCC' + ten_as + 'GGG' + ten_as\n",
    "occurrences = naive_with_rc(p, t)\n",
    "print(occurrences)"
   ]
  },
  {
   "cell_type": "code",
   "execution_count": 102,
   "metadata": {},
   "outputs": [
    {
     "name": "stdout",
     "output_type": "stream",
     "text": [
      "[10, 24]\n"
     ]
    }
   ],
   "source": [
    "p = 'CGCG'\n",
    "t = ten_as + 'CGCG' + ten_as + 'CGCG' + ten_as\n",
    "occurrences = naive_with_rc(p, t)\n",
    "print(occurrences)"
   ]
  },
  {
   "cell_type": "code",
   "execution_count": 110,
   "metadata": {},
   "outputs": [],
   "source": [
    "def readGenome(filename):\n",
    "    genome = ''\n",
    "    with open(filename, 'r') as f:\n",
    "        for line in f:\n",
    "            # ignore header line with genome information\n",
    "            if not line[0] == '>':\n",
    "                genome += line.rstrip()\n",
    "    return genome\n",
    "phix_genome = readGenome('phix.fa')"
   ]
  },
  {
   "cell_type": "code",
   "execution_count": 111,
   "metadata": {},
   "outputs": [],
   "source": [
    "occurrences = naive_with_rc('ATTA', phix_genome)"
   ]
  },
  {
   "cell_type": "code",
   "execution_count": 108,
   "metadata": {},
   "outputs": [
    {
     "data": {
      "text/plain": [
       "[]"
      ]
     },
     "execution_count": 108,
     "metadata": {},
     "output_type": "execute_result"
    }
   ],
   "source": [
    "occurrences"
   ]
  },
  {
   "cell_type": "code",
   "execution_count": 112,
   "metadata": {},
   "outputs": [
    {
     "name": "stdout",
     "output_type": "stream",
     "text": [
      "offset of leftmost occurrence:  62\n"
     ]
    }
   ],
   "source": [
    "print(f'offset of leftmost occurrence:  {min(occurrences)}')"
   ]
  },
  {
   "cell_type": "markdown",
   "metadata": {},
   "source": []
  },
  {
   "cell_type": "code",
   "execution_count": 113,
   "metadata": {},
   "outputs": [
    {
     "name": "stdout",
     "output_type": "stream",
     "text": [
      "# occurrences: 60\n"
     ]
    }
   ],
   "source": [
    "print('# occurrences: %d' % len(occurrences))"
   ]
  },
  {
   "cell_type": "markdown",
   "metadata": {},
   "source": [
    "## the exam "
   ]
  },
  {
   "cell_type": "code",
   "execution_count": 114,
   "metadata": {},
   "outputs": [],
   "source": [
    "def read_genome(filename):\n",
    "    genome =\"\"\n",
    "    with open(filename, 'r') as file:\n",
    "        for line in file:\n",
    "            if not line.startswith('>'):\n",
    "                genome += line.rstrip()\n",
    "    return genome\n",
    "\n",
    "genome = read_genome('lambda_virus.fa')"
   ]
  },
  {
   "cell_type": "code",
   "execution_count": 124,
   "metadata": {},
   "outputs": [
    {
     "name": "stdout",
     "output_type": "stream",
     "text": [
      "306\n"
     ]
    }
   ],
   "source": [
    "# question1 \n",
    "occurrences = naive_with_rc('AGGT', genome)\n",
    "print(len(occurrences))"
   ]
  },
  {
   "cell_type": "code",
   "execution_count": 123,
   "metadata": {},
   "outputs": [
    {
     "name": "stdout",
     "output_type": "stream",
     "text": [
      "195\n"
     ]
    }
   ],
   "source": [
    "# question 2 \n",
    "occurrences = naive_with_rc('TTAA', genome)\n",
    "\n",
    "print(len(occurrences))"
   ]
  },
  {
   "cell_type": "code",
   "execution_count": 120,
   "metadata": {},
   "outputs": [
    {
     "name": "stdout",
     "output_type": "stream",
     "text": [
      "offset of leftmost occurrence:  26028\n"
     ]
    }
   ],
   "source": [
    "# question 3 \n",
    "occurrences = naive_with_rc('ACTAAGT', genome)\n",
    "print(f'offset of leftmost occurrence:  {min(occurrences)}')"
   ]
  },
  {
   "cell_type": "code",
   "execution_count": 122,
   "metadata": {},
   "outputs": [
    {
     "name": "stdout",
     "output_type": "stream",
     "text": [
      "offset of leftmost occurrence:  450\n"
     ]
    }
   ],
   "source": [
    "# question 4 \n",
    "occurrences = naive_with_rc('AGTCGA', genome)\n",
    "print(f'offset of leftmost occurrence:  {min(occurrences)}')"
   ]
  },
  {
   "cell_type": "code",
   "execution_count": 125,
   "metadata": {},
   "outputs": [],
   "source": [
    "# question 5 \n",
    "def naive_2mm(p: str, t: str):\n",
    "    \"\"\"takes the pattern -> p and find all the matches in genome p\"\"\"\n",
    "    occurences = []\n",
    "    reversed_str = reverse_complement(p)\n",
    "  \n",
    "    for i in range(len(t)-len(p)+1):\n",
    "        count = 0 \n",
    "        match = True\n",
    "        for j in range(len(p)):\n",
    "            if not t[i+j] == p[j]:\n",
    "                count +=1\n",
    "                if count >2:\n",
    "                    match = False\n",
    "                    break\n",
    "\n",
    "        if match:\n",
    "            occurences.append(i)\n",
    "\n",
    "    return occurences"
   ]
  },
  {
   "cell_type": "code",
   "execution_count": 126,
   "metadata": {},
   "outputs": [
    {
     "name": "stdout",
     "output_type": "stream",
     "text": [
      "[10, 24, 38]\n"
     ]
    }
   ],
   "source": [
    "p = 'CTGT'\n",
    "ten_as = 'AAAAAAAAAA'\n",
    "t = ten_as + 'CTGT' + ten_as + 'CTTT' + ten_as + 'CGGG' + ten_as\n",
    "occurrences = naive_2mm(p, t)\n",
    "print(occurrences)"
   ]
  },
  {
   "cell_type": "code",
   "execution_count": 127,
   "metadata": {},
   "outputs": [
    {
     "name": "stdout",
     "output_type": "stream",
     "text": [
      "offset of leftmost occurrence: 10\n",
      "# occurrences: 79\n"
     ]
    }
   ],
   "source": [
    "occurrences = naive_2mm('GATTACA', phix_genome)\n",
    "print('offset of leftmost occurrence: %d' % min(occurrences))\n",
    "print('# occurrences: %d' % len(occurrences))"
   ]
  },
  {
   "cell_type": "code",
   "execution_count": 128,
   "metadata": {},
   "outputs": [
    {
     "name": "stdout",
     "output_type": "stream",
     "text": [
      "191\n"
     ]
    }
   ],
   "source": [
    "occurrences = naive_2mm('TTCAAGCC', genome)\n",
    "print(len(occurrences))\n"
   ]
  },
  {
   "cell_type": "code",
   "execution_count": 129,
   "metadata": {},
   "outputs": [
    {
     "name": "stdout",
     "output_type": "stream",
     "text": [
      "49\n"
     ]
    }
   ],
   "source": [
    "# question 6 \n",
    "occurrences = naive_2mm('AGGAGGTT', genome)\n",
    "print(min(occurrences))"
   ]
  },
  {
   "cell_type": "code",
   "execution_count": 130,
   "metadata": {},
   "outputs": [],
   "source": [
    "# quesiton 7\n",
    "reads, qual = read_fastq('ERR266411_1.first1000.fastq')"
   ]
  },
  {
   "cell_type": "code",
   "execution_count": 132,
   "metadata": {},
   "outputs": [
    {
     "name": "stdout",
     "output_type": "stream",
     "text": [
      "[(1, 2), (2, 4), (0, 6), (5, 14), (4, 14), (3, 20), (8, 35), (15, 39), (14, 41), (13, 70), (43, 70), (7, 119), (16, 126), (9, 169), (6, 215), (20, 224), (18, 255), (25, 270), (42, 286), (12, 302), (26, 315), (17, 363), (27, 371), (22, 474), (10, 506), (28, 515), (23, 519), (11, 553), (21, 644), (19, 704), (24, 760), (29, 937), (30, 1078), (41, 1114), (32, 1542), (31, 2615), (33, 2879), (34, 3189), (40, 4099), (35, 5178), (36, 9172), (39, 14329), (37, 16755), (38, 29108)]\n"
     ]
    }
   ],
   "source": [
    "frequencies = score_frequencies(qual)\n",
    "result = dict(frequencies)\n",
    "print(sorted(result.items(), key = lambda x: x[1]))\n"
   ]
  },
  {
   "cell_type": "code",
   "execution_count": 134,
   "metadata": {},
   "outputs": [
    {
     "data": {
      "image/png": "[encoded data removed]",
      "text/plain": [
       "<Figure size 640x480 with 1 Axes>"
      ]
     },
     "metadata": {},
     "output_type": "display_data"
    }
   ],
   "source": [
    "plt.bar(list(dict(frequencies).keys()), list(dict(frequencies).values()))\n",
    "plt.title(\"distribution of score frequencies\")\n",
    "plt.show()"
   ]
  },
  {
   "cell_type": "code",
   "execution_count": 140,
   "metadata": {},
   "outputs": [
    {
     "data": {
      "image/png": "[encoded data removed]",
      "text/plain": [
       "<Figure size 640x480 with 1 Axes>"
      ]
     },
     "metadata": {},
     "output_type": "display_data"
    }
   ],
   "source": [
    "gc = findGCinEachRead(reads)\n",
    "plt.plot(range(len(gc[210:220])), gc[210:220])\n",
    "plt.title(\"Percent of the GC content in each read\")\n",
    "plt.show()"
   ]
  }
 ],
 "metadata": {
  "kernelspec": {
   "display_name": ".venv",
   "language": "python",
   "name": "python3"
  },
  "language_info": {
   "codemirror_mode": {
    "name": "ipython",
    "version": 3
   },
   "file_extension": ".py",
   "mimetype": "text/x-python",
   "name": "python",
   "nbconvert_exporter": "python",
   "pygments_lexer": "ipython3",
   "version": "3.9.6"
  }
 },
 "nbformat": 4,
 "nbformat_minor": 2
}
