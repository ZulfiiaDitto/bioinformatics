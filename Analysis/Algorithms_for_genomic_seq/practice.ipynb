{
 "cells": [
  {
   "cell_type": "code",
   "execution_count": 12,
   "metadata": {},
   "outputs": [],
   "source": [
    "from collections import defaultdict"
   ]
  },
  {
   "cell_type": "code",
   "execution_count": 13,
   "metadata": {},
   "outputs": [
    {
     "name": "stdout",
     "output_type": "stream",
     "text": [
      "--2024-06-30 12:19:47--  https://d28rh4a8wq0iu5.cloudfront.net/ads1/data/lambda_virus.fa\n",
      "Resolving d28rh4a8wq0iu5.cloudfront.net (d28rh4a8wq0iu5.cloudfront.net)... 18.245.133.173, 18.245.133.72, 18.245.133.132, ...\n",
      "Connecting to d28rh4a8wq0iu5.cloudfront.net (d28rh4a8wq0iu5.cloudfront.net)|18.245.133.173|:443... connected.\n",
      "HTTP request sent, awaiting response... 200 OK\n",
      "Length: 49270 (48K) [application/octet-stream]\n",
      "Saving to: ‘lambda_virus.fa.1’\n",
      "\n",
      "lambda_virus.fa.1   100%[===================>]  48.12K  --.-KB/s    in 0.02s   \n",
      "\n",
      "2024-06-30 12:19:47 (2.06 MB/s) - ‘lambda_virus.fa.1’ saved [49270/49270]\n",
      "\n"
     ]
    }
   ],
   "source": [
    "!wget https://d28rh4a8wq0iu5.cloudfront.net/ads1/data/lambda_virus.fa\n",
    " # set directory - /bioinformatics/Analysis/Algorithms_for_genomic_seq"
   ]
  },
  {
   "cell_type": "code",
   "execution_count": 14,
   "metadata": {},
   "outputs": [],
   "source": [
    "def read_genome(filename):\n",
    "    genome =\"\"\n",
    "    with open(filename, 'r') as file:\n",
    "        for line in file:\n",
    "            if not line.startswith('>'):\n",
    "                genome += line.rstrip()\n",
    "    return genome\n",
    "\n",
    "genome = read_genome('lambda_virus.fa')"
   ]
  },
  {
   "cell_type": "code",
   "execution_count": 15,
   "metadata": {},
   "outputs": [
    {
     "data": {
      "text/plain": [
       "48502"
      ]
     },
     "execution_count": 15,
     "metadata": {},
     "output_type": "execute_result"
    }
   ],
   "source": [
    "# len should be 48502\n",
    "len(genome)"
   ]
  },
  {
   "cell_type": "code",
   "execution_count": 16,
   "metadata": {},
   "outputs": [],
   "source": [
    "counts = defaultdict(int)"
   ]
  },
  {
   "cell_type": "code",
   "execution_count": 17,
   "metadata": {},
   "outputs": [],
   "source": [
    "# manual count of nucleotides \n",
    "for base in genome:\n",
    "    if base in counts:\n",
    "        counts[base] += 1\n",
    "    else:\n",
    "        counts[base] =1 "
   ]
  },
  {
   "cell_type": "code",
   "execution_count": 11,
   "metadata": {},
   "outputs": [
    {
     "data": {
      "text/plain": [
       "defaultdict(int, {'G': 12820, 'C': 11362, 'A': 12334, 'T': 11986})"
      ]
     },
     "execution_count": 11,
     "metadata": {},
     "output_type": "execute_result"
    }
   ],
   "source": [
    "counts"
   ]
  },
  {
   "cell_type": "code",
   "execution_count": 18,
   "metadata": {},
   "outputs": [
    {
     "data": {
      "text/plain": [
       "Counter({'G': 12820, 'A': 12334, 'T': 11986, 'C': 11362})"
      ]
     },
     "execution_count": 18,
     "metadata": {},
     "output_type": "execute_result"
    }
   ],
   "source": [
    "#count using the python collection module \n",
    "from collections import Counter\n",
    "count_col = Counter(genome)\n",
    "count_col"
   ]
  },
  {
   "cell_type": "markdown",
   "metadata": {},
   "source": [
    "## Sequence read of fastaq file "
   ]
  },
  {
   "cell_type": "markdown",
   "metadata": {},
   "source": [
    "### analysis of quality score frequencies "
   ]
  },
  {
   "cell_type": "code",
   "execution_count": 52,
   "metadata": {},
   "outputs": [
    {
     "name": "stdout",
     "output_type": "stream",
     "text": [
      "--2024-06-30 14:06:50--  http://d28rh4a8wq0iu5.cloudfront.net/ads1/data/SRR835775_1.first1000.fastq\n",
      "Resolving d28rh4a8wq0iu5.cloudfront.net (d28rh4a8wq0iu5.cloudfront.net)... 18.245.133.68, 18.245.133.132, 18.245.133.173, ...\n",
      "Connecting to d28rh4a8wq0iu5.cloudfront.net (d28rh4a8wq0iu5.cloudfront.net)|18.245.133.68|:80... connected.\n",
      "HTTP request sent, awaiting response... 200 OK\n",
      "Length: 224786 (220K) [application/octet-stream]\n",
      "Saving to: ‘SRR835775_1.first1000.fastq.1’\n",
      "\n",
      "SRR835775_1.first10 100%[===================>] 219.52K  --.-KB/s    in 0.05s   \n",
      "\n",
      "2024-06-30 14:06:50 (3.97 MB/s) - ‘SRR835775_1.first1000.fastq.1’ saved [224786/224786]\n",
      "\n"
     ]
    }
   ],
   "source": [
    "!wget http://d28rh4a8wq0iu5.cloudfront.net/ads1/data/SRR835775_1.first1000.fastq"
   ]
  },
  {
   "cell_type": "code",
   "execution_count": 53,
   "metadata": {},
   "outputs": [],
   "source": [
    "def read_fastq(filename):\n",
    "    sequences = []\n",
    "    qualities = []\n",
    "    with open(filename) as file:\n",
    "        while True:\n",
    "            file.readline()\n",
    "            seq = file.readline().rstrip()\n",
    "            file.readline()\n",
    "            qual = file.readline().rstrip()\n",
    "            if len(seq) == 0:\n",
    "                break\n",
    "\n",
    "            else:\n",
    "                sequences.append(seq)\n",
    "                qualities.append(qual)\n",
    "    return sequences, qualities"
   ]
  },
  {
   "cell_type": "code",
   "execution_count": 55,
   "metadata": {},
   "outputs": [],
   "source": [
    "seq, qual = read_fastq('SRR835775_1.first1000.fastq')"
   ]
  },
  {
   "cell_type": "code",
   "execution_count": 56,
   "metadata": {},
   "outputs": [
    {
     "data": {
      "text/plain": [
       "2"
      ]
     },
     "execution_count": 56,
     "metadata": {},
     "output_type": "execute_result"
    }
   ],
   "source": [
    "# converting the quality score to the value \n",
    "\n",
    "def phred33_to_Q(qual):\n",
    "    \"\"\"Takes the acsci character of the quality\n",
    "      from fastsq file and return the value by converting it \"\"\"\n",
    "    return ord(qual) - 33\n",
    "\n",
    "phred33_to_Q('#')\n",
    "# the '#' is low score "
   ]
  },
  {
   "cell_type": "code",
   "execution_count": 57,
   "metadata": {},
   "outputs": [
    {
     "data": {
      "text/plain": [
       "{30: 3387,\n",
       " 33: 5476,\n",
       " 16: 184,\n",
       " 32: 3248,\n",
       " 35: 11814,\n",
       " 23: 798,\n",
       " 10: 193,\n",
       " 34: 8375,\n",
       " 25: 888,\n",
       " 18: 514,\n",
       " 36: 4243,\n",
       " 31: 4487,\n",
       " 8: 345,\n",
       " 17: 327,\n",
       " 26: 1396,\n",
       " 28: 993,\n",
       " 7: 574,\n",
       " 13: 165,\n",
       " 21: 254,\n",
       " 2: 6178,\n",
       " 37: 7827,\n",
       " 38: 6579,\n",
       " 39: 8179,\n",
       " 41: 8180,\n",
       " 40: 9349,\n",
       " 29: 1752,\n",
       " 20: 531,\n",
       " 24: 992,\n",
       " 27: 1488,\n",
       " 15: 236,\n",
       " 11: 124,\n",
       " 22: 313,\n",
       " 12: 79,\n",
       " 6: 108,\n",
       " 19: 238,\n",
       " 9: 83,\n",
       " 5: 54,\n",
       " 14: 49}"
      ]
     },
     "execution_count": 57,
     "metadata": {},
     "output_type": "execute_result"
    }
   ],
   "source": [
    "def score_frequencies(qualitlst: list):\n",
    "    valuelst = [phred33_to_Q(ph) for qual in qualitlst for ph in qual]\n",
    "    frequencies = Counter(valuelst)\n",
    "    return frequencies \n",
    "\n",
    "frequencies = score_frequencies(qual)\n",
    "dict(frequencies)"
   ]
  },
  {
   "cell_type": "code",
   "execution_count": 58,
   "metadata": {},
   "outputs": [
    {
     "data": {
      "image/png": "[encoded data removed]",
      "text/plain": [
       "<Figure size 640x480 with 1 Axes>"
      ]
     },
     "metadata": {},
     "output_type": "display_data"
    }
   ],
   "source": [
    "%matplotlib inline\n",
    "import matplotlib.pyplot as plt\n",
    "\n",
    "plt.bar(list(dict(frequencies).keys()), list(dict(frequencies).values()))\n",
    "plt.title(\"distribution of score frequencies\")\n",
    "plt.show()"
   ]
  },
  {
   "cell_type": "markdown",
   "metadata": {},
   "source": [
    "### GC content of reads "
   ]
  },
  {
   "cell_type": "code",
   "execution_count": 69,
   "metadata": {},
   "outputs": [
    {
     "name": "stdout",
     "output_type": "stream",
     "text": [
      "[0.51, 0.5, 0.5, 0.52, 0.52, 0.57, 0.56, 0.51, 0.53, 0.59, 0.51, 0.63, 0.52, 0.52, 0.49, 0.5, 0.48, 0.53, 0.43, 0.52, 0.5, 0.53, 0.5, 0.51, 0.5, 0.52, 0.51, 0.53, 0.52, 0.5, 0.66, 0.5, 0.55, 0.56, 0.5, 0.49, 0.55, 0.49, 0.51, 0.51, 0.51, 0.52, 0.54, 0.5, 0.5, 0.55, 0.52, 0.56, 0.47, 0.6, 0.55, 0.55, 0.46, 0.47, 0.52, 0.49, 0.55, 0.51, 0.48, 0.52, 0.5, 0.48, 0.52, 0.49, 0.5, 0.52, 0.49, 0.5, 0.5, 0.53, 0.5, 0.49, 0.51, 0.55, 0.47, 0.49, 0.51, 0.54, 0.51, 0.51, 0.49, 0.5, 0.57, 0.51, 0.52, 0.5, 0.58, 0.56, 0.48, 0.55, 0.52, 0.47, 0.65, 0.51, 0.53, 0.52, 0.49, 0.58, 0.58, 0.6, 0.51, 0.51, 0.55, 0.5, 0.59, 0.51, 0.6, 0.55, 0.5, 0.63, 0.51, 0.61, 0.53, 0.48, 0.5, 0.51, 0.49, 0.54, 0.52, 0.51, 0.52, 0.57, 0.54, 0.52, 0.51, 0.53, 0.51, 0.5, 0.52, 0.5, 0.52, 0.56, 0.55, 0.59, 0.55, 0.56, 0.54, 0.49, 0.55, 0.51, 0.53, 0.54, 0.52, 0.49, 0.6, 0.51, 0.53, 0.54, 0.53, 0.52, 0.6, 0.63, 0.52, 0.47, 0.52, 0.51, 0.5, 0.49, 0.54, 0.5, 0.5, 0.51, 0.56, 0.55, 0.5, 0.51, 0.56, 0.5, 0.53, 0.48, 0.53, 0.49, 0.63, 0.65, 0.65, 0.54, 0.66, 0.65, 0.66, 0.53, 0.55, 0.63, 0.62, 0.62, 0.63, 0.62, 0.62, 0.62, 0.62, 0.64, 0.61, 0.61, 0.65, 0.6, 0.61, 0.61, 0.63, 0.6, 0.59, 0.59, 0.58, 0.59, 0.58, 0.58, 0.57, 0.57, 0.56, 0.57, 0.63, 0.57, 0.56, 0.58, 0.62, 0.62, 0.62, 0.58, 0.6, 0.6, 0.59, 0.6, 0.6, 0.63, 0.56, 0.56, 0.55, 0.58, 0.56, 0.57, 0.57, 0.58, 0.59, 0.57, 0.57, 0.57, 0.57, 0.57, 0.55, 0.55, 0.55, 0.6, 0.56, 0.57, 0.6, 0.6, 0.55, 0.62, 0.6, 0.6, 0.6, 0.6, 0.61, 0.61, 0.59, 0.55, 0.59, 0.63, 0.6, 0.62, 0.63, 0.63, 0.64, 0.62, 0.6, 0.56, 0.54, 0.55, 0.65, 0.57, 0.61, 0.59, 0.56, 0.6, 0.61, 0.6, 0.55, 0.6, 0.55, 0.62, 0.61, 0.66, 0.55, 0.64, 0.61, 0.58, 0.64, 0.61, 0.61, 0.63, 0.55, 0.62, 0.61, 0.62, 0.63, 0.62, 0.61, 0.63, 0.62, 0.58, 0.62, 0.62, 0.62, 0.6, 0.62, 0.63, 0.64, 0.61, 0.59, 0.6, 0.6, 0.6, 0.61, 0.59, 0.6, 0.58, 0.63, 0.57, 0.6, 0.58, 0.62, 0.6, 0.57, 0.57, 0.63, 0.61, 0.61, 0.6, 0.59, 0.57, 0.57, 0.56, 0.55, 0.6, 0.6, 0.62, 0.59, 0.55, 0.56, 0.61, 0.52, 0.52, 0.52, 0.5, 0.57, 0.59, 0.49, 0.55, 0.55, 0.5, 0.47, 0.47, 0.58, 0.58, 0.53, 0.56, 0.45, 0.46, 0.6, 0.46, 0.45, 0.58, 0.58, 0.57, 0.57, 0.58, 0.52, 0.51, 0.59, 0.59, 0.54, 0.53, 0.56, 0.62, 0.57, 0.62, 0.46, 0.6, 0.56, 0.56, 0.56, 0.55, 0.53, 0.61, 0.54, 0.62, 0.6, 0.54, 0.6, 0.6, 0.54, 0.5, 0.53, 0.53, 0.49, 0.52, 0.56, 0.53, 0.63, 0.47, 0.5, 0.51, 0.54, 0.54, 0.53, 0.53, 0.51, 0.53, 0.53, 0.53, 0.5, 0.52, 0.52, 0.53, 0.54, 0.54, 0.53, 0.54, 0.46, 0.55, 0.55, 0.54, 0.54, 0.53, 0.44, 0.54, 0.53, 0.45, 0.45, 0.45, 0.48, 0.44, 0.47, 0.49, 0.45, 0.45, 0.58, 0.48, 0.49, 0.47, 0.42, 0.49, 0.48, 0.46, 0.46, 0.46, 0.43, 0.48, 0.48, 0.45, 0.45, 0.46, 0.6, 0.47, 0.47, 0.47, 0.61, 0.56, 0.56, 0.54, 0.57, 0.64, 0.65, 0.6, 0.54, 0.53, 0.66, 0.51, 0.53, 0.67, 0.53, 0.65, 0.66, 0.66, 0.57, 0.63, 0.67, 0.68, 0.68, 0.64, 0.71, 0.61, 0.61, 0.64, 0.67, 0.6, 0.65, 0.65, 0.64, 0.61, 0.65, 0.62, 0.6, 0.6, 0.67, 0.64, 0.62, 0.6, 0.6, 0.6, 0.57, 0.56, 0.58, 0.61, 0.56, 0.56, 0.55, 0.61, 0.55, 0.61, 0.55, 0.55, 0.6, 0.6, 0.67, 0.63, 0.6, 0.62, 0.63, 0.62, 0.62, 0.63, 0.64, 0.63, 0.62, 0.62, 0.62, 0.72, 0.59, 0.59, 0.62, 0.66, 0.63, 0.62, 0.61, 0.64, 0.7, 0.65, 0.61, 0.57, 0.66, 0.62, 0.63, 0.58, 0.61, 0.58, 0.63, 0.61, 0.61, 0.61, 0.62, 0.62, 0.63, 0.65, 0.64, 0.62, 0.63, 0.65, 0.62, 0.65, 0.56, 0.55, 0.59, 0.63, 0.63, 0.63, 0.63, 0.57, 0.63, 0.61, 0.62, 0.63, 0.62, 0.57, 0.61, 0.61, 0.61, 0.61, 0.61, 0.64, 0.64, 0.63, 0.65, 0.64, 0.66, 0.64, 0.56, 0.6, 0.65, 0.55, 0.55, 0.63, 0.62, 0.58, 0.57, 0.63, 0.57, 0.58, 0.62, 0.58, 0.58, 0.61, 0.62, 0.62, 0.61, 0.61, 0.62, 0.62, 0.61, 0.62, 0.62, 0.62, 0.66, 0.63, 0.66, 0.61, 0.68, 0.66, 0.58, 0.67, 0.69, 0.72, 0.68, 0.68, 0.66, 0.66, 0.66, 0.65, 0.66, 0.66, 0.61, 0.64, 0.65, 0.65, 0.65, 0.65, 0.65, 0.65, 0.63, 0.63, 0.63, 0.61, 0.61, 0.57, 0.61, 0.64, 0.6, 0.6, 0.64, 0.59, 0.61, 0.61, 0.63, 0.63, 0.59, 0.62, 0.62, 0.64, 0.58, 0.59, 0.58, 0.59, 0.65, 0.59, 0.59, 0.59, 0.69, 0.6, 0.61, 0.63, 0.63, 0.63, 0.61, 0.63, 0.62, 0.61, 0.61, 0.61, 0.68, 0.62, 0.61, 0.62, 0.68, 0.55, 0.55, 0.56, 0.55, 0.54, 0.55, 0.54, 0.65, 0.68, 0.59, 0.54, 0.66, 0.54, 0.66, 0.55, 0.65, 0.54, 0.54, 0.66, 0.55, 0.65, 0.56, 0.66, 0.54, 0.54, 0.65, 0.65, 0.67, 0.54, 0.54, 0.52, 0.53, 0.65, 0.65, 0.54, 0.52, 0.66, 0.51, 0.66, 0.64, 0.51, 0.51, 0.69, 0.65, 0.67, 0.55, 0.53, 0.65, 0.66, 0.63, 0.65, 0.63, 0.62, 0.57, 0.59, 0.68, 0.59, 0.68, 0.68, 0.7, 0.68, 0.69, 0.55, 0.71, 0.55, 0.6, 0.69, 0.54, 0.69, 0.61, 0.67, 0.69, 0.69, 0.69, 0.69, 0.55, 0.55, 0.53, 0.55, 0.68, 0.68, 0.54, 0.68, 0.69, 0.54, 0.61, 0.54, 0.7, 0.69, 0.69, 0.69, 0.68, 0.68, 0.55, 0.54, 0.7, 0.53, 0.54, 0.54, 0.66, 0.64, 0.62, 0.63, 0.64, 0.55, 0.62, 0.63, 0.58, 0.58, 0.53, 0.54, 0.65, 0.65, 0.59, 0.64, 0.55, 0.6, 0.64, 0.66, 0.65, 0.68, 0.68, 0.64, 0.62, 0.61, 0.65, 0.66, 0.64, 0.6, 0.63, 0.63, 0.63, 0.65, 0.63, 0.61, 0.6, 0.59, 0.6, 0.6, 0.59, 0.58, 0.65, 0.57, 0.59, 0.56, 0.57, 0.56, 0.64, 0.55, 0.41, 0.48, 0.5, 0.59, 0.47, 0.48, 0.65, 0.63, 0.49, 0.49, 0.5, 0.63, 0.62, 0.44, 0.62, 0.62, 0.47, 0.64, 0.46, 0.61, 0.63, 0.63, 0.46, 0.46, 0.46, 0.61, 0.62, 0.63, 0.49, 0.59, 0.49, 0.5, 0.62, 0.48, 0.48, 0.62, 0.6, 0.47, 0.61, 0.65, 0.59, 0.46, 0.58, 0.6, 0.46, 0.44, 0.43, 0.42, 0.43, 0.6, 0.6, 0.6, 0.61, 0.61, 0.4, 0.4, 0.6, 0.56, 0.6, 0.59, 0.6, 0.4, 0.59, 0.4, 0.61, 0.61, 0.39, 0.6, 0.38, 0.53, 0.6, 0.6, 0.61, 0.56, 0.34, 0.6, 0.59, 0.56, 0.31, 0.54, 0.3, 0.31, 0.6, 0.32, 0.31, 0.58, 0.56, 0.31, 0.31, 0.31, 0.31, 0.29, 0.3, 0.49, 0.3, 0.29, 0.61, 0.57, 0.3, 0.3, 0.57, 0.6, 0.31, 0.33, 0.53, 0.35, 0.38, 0.57, 0.49, 0.47, 0.65, 0.49, 0.48, 0.48, 0.66, 0.68, 0.7, 0.49, 0.45, 0.5, 0.7, 0.49, 0.4, 0.42, 0.47, 0.71, 0.71, 0.7, 0.7, 0.71, 0.47, 0.47, 0.46, 0.3, 0.72, 0.45, 0.4, 0.7, 0.36, 0.61, 0.58, 0.58, 0.57, 0.58, 0.58, 0.59, 0.58, 0.57, 0.56, 0.55, 0.55, 0.56, 0.59, 0.55, 0.55, 0.53, 0.6, 0.55, 0.55, 0.55, 0.58, 0.55, 0.54, 0.54, 0.57, 0.57, 0.61, 0.62, 0.6, 0.59]\n"
     ]
    }
   ],
   "source": [
    "# all reads are 100 base long \n",
    "def findGCinEachRead(reads):\n",
    "    \"\"\"finds the CG content and index where the CG bases is found \"\"\"\n",
    "    percentLst = []\n",
    "    for seq in reads: \n",
    "        all_bases = dict(Counter(seq))\n",
    "        percent = None\n",
    "        if 'G' in all_bases and \"C\" in all_bases:\n",
    "            percent =(all_bases['G'] + all_bases['C']) / sum(list(all_bases.values()))\n",
    "        elif \"G\" in all_bases:\n",
    "            percent = all_bases['G'] / sum(list(all_bases.values()))\n",
    "        elif \"C\" in all_bases:\n",
    "            percent = all_bases['C'] / sum(list(all_bases.values()))\n",
    "        percentLst.append(percent)\n",
    "    return percentLst\n",
    "\n",
    "                         \n",
    "GC_content = findGCinEachRead(seq)\n",
    "print(GC_content)\n"
   ]
  },
  {
   "cell_type": "code",
   "execution_count": 71,
   "metadata": {},
   "outputs": [
    {
     "data": {
      "image/png": "[encoded data removed]",
      "text/plain": [
       "<Figure size 640x480 with 1 Axes>"
      ]
     },
     "metadata": {},
     "output_type": "display_data"
    }
   ],
   "source": [
    "plt.plot(range(len(GC_content)), GC_content)\n",
    "plt.title(\"Percent of the GC content in each read\")\n",
    "plt.show()\n",
    "# summary: we have 1000 reads and in the late reads the content of CG is changing \n",
    "# drastically 0.3 to 0.7. usually CG conten in human genome around 0.50 +/- 0.05 \n",
    "# Thus we can conclude tha on the late reads quality is not great due to the high noise may be "
   ]
  },
  {
   "cell_type": "code",
   "execution_count": 73,
   "metadata": {},
   "outputs": [
    {
     "name": "stdout",
     "output_type": "stream",
     "text": [
      "Counter({'G': 28742, 'C': 28272, 'T': 21836, 'A': 21132, 'N': 18})\n"
     ]
    }
   ],
   "source": [
    "#lets see the distribution of the nucletides in all reads -> do easy with standart library\n",
    "# N - means no confidence in base -> sequencer will reporter could not figurate out what is it\n",
    "\n",
    "count = Counter()\n",
    "for s in seq:\n",
    "    count.update(s)\n",
    "\n",
    "print(count)"
   ]
  }
 ],
 "metadata": {
  "kernelspec": {
   "display_name": ".venv",
   "language": "python",
   "name": "python3"
  },
  "language_info": {
   "codemirror_mode": {
    "name": "ipython",
    "version": 3
   },
   "file_extension": ".py",
   "mimetype": "text/x-python",
   "name": "python",
   "nbconvert_exporter": "python",
   "pygments_lexer": "ipython3",
   "version": "3.9.6"
  }
 },
 "nbformat": 4,
 "nbformat_minor": 2
}
